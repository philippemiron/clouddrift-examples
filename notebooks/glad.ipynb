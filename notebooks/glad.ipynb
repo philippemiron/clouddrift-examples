{
 "cells": [
  {
   "cell_type": "markdown",
   "id": "6426c30b-df03-46a9-8fb7-57ddf404683e",
   "metadata": {
    "tags": []
   },
   "source": [
    "# Working with the Grand LAgrangian Deployment (GLAD) dataset by the CARTHE consortium\n",
    "\n",
    "To process the [CARTHE GLAD](http://carthe.org/glad/) dataset, we follow steps similar to the ones found in `gdp.ipynb` for the hourly GDP dataset. One main difference is that we use a new preprocessing function (`data/glad.py`) tailored to the format of the tabular text format of this dataset."
   ]
  },
  {
   "cell_type": "code",
   "execution_count": null,
   "id": "4cca829b-f96f-4e09-bfbc-d7b2ec2d008e",
   "metadata": {
    "tags": []
   },
   "outputs": [],
   "source": [
    "from clouddrift import RaggedArray\n",
    "import numpy as np\n",
    "import matplotlib.pyplot as plt"
   ]
  },
  {
   "cell_type": "markdown",
   "id": "2aded949-7d07-47fd-b184-50574c2600ba",
   "metadata": {},
   "source": [
    "## Dataset-specific functions"
   ]
  },
  {
   "cell_type": "markdown",
   "id": "c133b096-ee61-4018-b797-d43cc9db7329",
   "metadata": {},
   "source": [
    "For this dataset, importing the glad module will automatically download `GLAD_15min_filtered.dat` from [the Gulf of Mexico Research Initiative Information and Data Cooperative (GRIIDC) repository](https://data.gulfresearchinitiative.org/data/R1.x134.073:0004) and stored it into the `data/raw/glad/` directory."
   ]
  },
  {
   "cell_type": "code",
   "execution_count": null,
   "id": "50aa29c2-5cfa-4ca7-ada3-7c3a6ec3b384",
   "metadata": {
    "tags": []
   },
   "outputs": [],
   "source": [
    "from clouddrift.adapters import glad"
   ]
  },
  {
   "cell_type": "markdown",
   "id": "c42a0c03-fcb3-4131-af3c-e6e7bea4e833",
   "metadata": {},
   "source": [
    "The following function takes care of downloading, reformatting, and returning the dataset as ragged arrays compatible with `clouddrift` functions. The datasets contain 1602883 observations (dimension `obs`) from a total of 297 trajectories (dimension `traj`)."
   ]
  },
  {
   "cell_type": "code",
   "execution_count": null,
   "id": "c2db0565-359a-4538-a2b0-33c195b72d37",
   "metadata": {
    "tags": []
   },
   "outputs": [],
   "source": [
    "ds = glad.to_xarray()\n",
    "ds"
   ]
  },
  {
   "cell_type": "markdown",
   "id": "e417a3a5-1a8d-44eb-8b71-79d38b8213a3",
   "metadata": {},
   "source": [
    "With this representation of the data, we can make use of `clouddrift` functionality. For example, we can easily plot the velocity magnitude on all the trajectories of this dataset using the `plot_ragged` method from the `plotting` module.\n",
    "\n",
    "Note: this module requires the installation of optional dependencies (`pip install clouddrift[plotting]` or `conda install matplotlib cartopy`."
   ]
  },
  {
   "cell_type": "code",
   "execution_count": null,
   "id": "be3cb9ed-917b-49c7-8594-ccecadff3043",
   "metadata": {},
   "outputs": [],
   "source": [
    "from clouddrift.plotting import plot_ragged"
   ]
  },
  {
   "cell_type": "code",
   "execution_count": null,
   "id": "66b6b79a-a74e-4542-8906-149c71c25382",
   "metadata": {},
   "outputs": [],
   "source": [
    "fig = plt.figure()\n",
    "ax = fig.add_subplot(1,1,1)\n",
    "\n",
    "c = plot_ragged(\n",
    "    ax,\n",
    "    ds.longitude,\n",
    "    ds.latitude,\n",
    "    ds.rowsize,\n",
    "    colors=np.sqrt(ds.u**2 + ds.v**2)\n",
    ")\n",
    "\n",
    "fig.colorbar(c, ax=ax)\n",
    "ax.set_xlabel(\"Longitude\")\n",
    "ax.set_ylabel(\"Latitude\");"
   ]
  },
  {
   "cell_type": "code",
   "execution_count": null,
   "id": "16b083a8-27af-43e5-96a4-b78795c1d603",
   "metadata": {},
   "outputs": [],
   "source": []
  }
 ],
 "metadata": {
  "kernelspec": {
   "display_name": "Python 3 (ipykernel)",
   "language": "python",
   "name": "python3"
  },
  "language_info": {
   "codemirror_mode": {
    "name": "ipython",
    "version": 3
   },
   "file_extension": ".py",
   "mimetype": "text/x-python",
   "name": "python",
   "nbconvert_exporter": "python",
   "pygments_lexer": "ipython3",
   "version": "3.12.3"
  },
  "vscode": {
   "interpreter": {
    "hash": "51ed1a8a4b19d726e23a411b59608ec9427d5c3497f9219a586b5cd79201b8af"
   }
  }
 },
 "nbformat": 4,
 "nbformat_minor": 5
}
